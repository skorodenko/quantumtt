{
 "cells": [
  {
   "cell_type": "markdown",
   "metadata": {},
   "source": [
    "## Demo for mountain name NER\n",
    "\n",
    "This notebook presents simple interface to test the model\n",
    "\n",
    "1. Specify some text into 'text' variable\n",
    "2. Run notebook\n",
    "3. Get list of matched mountain names"
   ]
  },
  {
   "cell_type": "code",
   "execution_count": 11,
   "metadata": {},
   "outputs": [
    {
     "name": "stderr",
     "output_type": "stream",
     "text": [
      "Device set to use cuda:0\n"
     ]
    },
    {
     "name": "stdout",
     "output_type": "stream",
     "text": [
      "Discovered mountain names:\n",
      "{'entity': 'I-MNT', 'score': np.float32(0.61152273), 'index': 13, 'word': '##este', 'start': 69, 'end': 73}\n",
      "{'entity': 'B-MNT', 'score': np.float32(0.80762595), 'index': 53, 'word': 'Mont', 'start': 284, 'end': 288}\n",
      "{'entity': 'I-MNT', 'score': np.float32(0.9532586), 'index': 54, 'word': 'Blanc', 'start': 289, 'end': 294}\n",
      "{'entity': 'I-MNT', 'score': np.float32(0.8445889), 'index': 58, 'word': '##horn', 'start': 309, 'end': 313}\n"
     ]
    }
   ],
   "source": [
    "from transformers import (\n",
    "    AutoTokenizer,\n",
    "    AutoModelForTokenClassification,\n",
    "    pipeline,\n",
    ")\n",
    "\n",
    "model = AutoModelForTokenClassification.from_pretrained(\"rinkuro/bert-mount-ner\")\n",
    "tokenizer = AutoTokenizer.from_pretrained(\"rinkuro/bert-mount-ner\")\n",
    "\n",
    "classifier = pipeline(\"ner\", model=model, tokenizer=tokenizer)\n",
    "\n",
    "text = \"\"\"The Alpine arch extends from Nice on the western Mediterranean to Trieste on the Adriatic and Vienna at the beginning of the Pannonian Basin. \n",
    "Extreme shortening caused by the event resulted in marine sedimentary rocks rising by thrusting and folding into high mountain peaks such as Mont Blanc and the Matterhorn.\"\"\"\n",
    "\n",
    "res = classifier(text)\n",
    "print(\"Discovered mountain names:\")\n",
    "for e in res:\n",
    "    print(e)"
   ]
  }
 ],
 "metadata": {
  "kernelspec": {
   "display_name": ".venv",
   "language": "python",
   "name": "python3"
  },
  "language_info": {
   "codemirror_mode": {
    "name": "ipython",
    "version": 3
   },
   "file_extension": ".py",
   "mimetype": "text/x-python",
   "name": "python",
   "nbconvert_exporter": "python",
   "pygments_lexer": "ipython3",
   "version": "3.11.11"
  }
 },
 "nbformat": 4,
 "nbformat_minor": 2
}
